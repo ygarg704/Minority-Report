{
 "cells": [
  {
   "cell_type": "code",
   "execution_count": 1,
   "metadata": {},
   "outputs": [],
   "source": [
    "# Importing the packages\n",
    "\n",
    "import pandas as pd\n",
    "import numpy as pd\n",
    "import matplotlib.pyplot as plt\n",
    "import seaborn as sns\n",
    "import time\n",
    "import os"
   ]
  },
  {
   "cell_type": "code",
   "execution_count": 2,
   "metadata": {},
   "outputs": [
    {
     "name": "stdout",
     "output_type": "stream",
     "text": [
      "The dataset has 2160953 rows and 35 columns.\n"
     ]
    }
   ],
   "source": [
    "# Reading the dataset\n",
    "\n",
    "import pandas as pd\n",
    "df = pd.read_csv('../datasets/sanFran.csv')\n",
    "print(\"The dataset has {} rows and {} columns.\".format(df.shape[0], df.shape[1]))"
   ]
  },
  {
   "cell_type": "code",
   "execution_count": 3,
   "metadata": {},
   "outputs": [
    {
     "data": {
      "text/html": [
       "<div>\n",
       "<style scoped>\n",
       "    .dataframe tbody tr th:only-of-type {\n",
       "        vertical-align: middle;\n",
       "    }\n",
       "\n",
       "    .dataframe tbody tr th {\n",
       "        vertical-align: top;\n",
       "    }\n",
       "\n",
       "    .dataframe thead th {\n",
       "        text-align: right;\n",
       "    }\n",
       "</style>\n",
       "<table border=\"1\" class=\"dataframe\">\n",
       "  <thead>\n",
       "    <tr style=\"text-align: right;\">\n",
       "      <th></th>\n",
       "      <th>DayOfWeek</th>\n",
       "      <th>Date</th>\n",
       "      <th>Time</th>\n",
       "      <th>PdDistrict</th>\n",
       "      <th>Resolution</th>\n",
       "      <th>X</th>\n",
       "      <th>Y</th>\n",
       "      <th>location</th>\n",
       "    </tr>\n",
       "  </thead>\n",
       "  <tbody>\n",
       "    <tr>\n",
       "      <th>0</th>\n",
       "      <td>Friday</td>\n",
       "      <td>07/01/2011</td>\n",
       "      <td>08:00</td>\n",
       "      <td>NORTHERN</td>\n",
       "      <td>ARREST, BOOKED</td>\n",
       "      <td>-122.439758</td>\n",
       "      <td>37.802151</td>\n",
       "      <td>POINT (-122.43975785707501 37.8021507619169)</td>\n",
       "    </tr>\n",
       "    <tr>\n",
       "      <th>1</th>\n",
       "      <td>Tuesday</td>\n",
       "      <td>10/18/2005</td>\n",
       "      <td>14:30</td>\n",
       "      <td>TENDERLOIN</td>\n",
       "      <td>ARREST, BOOKED</td>\n",
       "      <td>-122.414318</td>\n",
       "      <td>37.779944</td>\n",
       "      <td>POINT (-122.414317857881 37.7799444052046)</td>\n",
       "    </tr>\n",
       "    <tr>\n",
       "      <th>2</th>\n",
       "      <td>Saturday</td>\n",
       "      <td>01/29/2005</td>\n",
       "      <td>13:45</td>\n",
       "      <td>BAYVIEW</td>\n",
       "      <td>NONE</td>\n",
       "      <td>-122.388799</td>\n",
       "      <td>37.737576</td>\n",
       "      <td>POINT (-122.38879889515101 37.7375755833256)</td>\n",
       "    </tr>\n",
       "    <tr>\n",
       "      <th>3</th>\n",
       "      <td>Thursday</td>\n",
       "      <td>06/02/2011</td>\n",
       "      <td>02:52</td>\n",
       "      <td>CENTRAL</td>\n",
       "      <td>PSYCHOPATHIC CASE</td>\n",
       "      <td>-122.414354</td>\n",
       "      <td>37.803109</td>\n",
       "      <td>POINT (-122.41435430115101 37.8031089840376)</td>\n",
       "    </tr>\n",
       "    <tr>\n",
       "      <th>4</th>\n",
       "      <td>Saturday</td>\n",
       "      <td>02/01/2003</td>\n",
       "      <td>08:00</td>\n",
       "      <td>BAYVIEW</td>\n",
       "      <td>NONE</td>\n",
       "      <td>-122.401097</td>\n",
       "      <td>37.724556</td>\n",
       "      <td>POINT (-122.401096851568 37.7245556697717)</td>\n",
       "    </tr>\n",
       "  </tbody>\n",
       "</table>\n",
       "</div>"
      ],
      "text/plain": [
       "  DayOfWeek        Date   Time  PdDistrict         Resolution           X  \\\n",
       "0    Friday  07/01/2011  08:00    NORTHERN     ARREST, BOOKED -122.439758   \n",
       "1   Tuesday  10/18/2005  14:30  TENDERLOIN     ARREST, BOOKED -122.414318   \n",
       "2  Saturday  01/29/2005  13:45     BAYVIEW               NONE -122.388799   \n",
       "3  Thursday  06/02/2011  02:52     CENTRAL  PSYCHOPATHIC CASE -122.414354   \n",
       "4  Saturday  02/01/2003  08:00     BAYVIEW               NONE -122.401097   \n",
       "\n",
       "           Y                                      location  \n",
       "0  37.802151  POINT (-122.43975785707501 37.8021507619169)  \n",
       "1  37.779944    POINT (-122.414317857881 37.7799444052046)  \n",
       "2  37.737576  POINT (-122.38879889515101 37.7375755833256)  \n",
       "3  37.803109  POINT (-122.41435430115101 37.8031089840376)  \n",
       "4  37.724556    POINT (-122.401096851568 37.7245556697717)  "
      ]
     },
     "execution_count": 3,
     "metadata": {},
     "output_type": "execute_result"
    }
   ],
   "source": [
    "# Selecting wanted attributes from the dataset\n",
    "\n",
    "df = df[['DayOfWeek', 'Date', 'Time', 'PdDistrict', 'Resolution', 'X', 'Y', 'location']]\n",
    "df.head(5)"
   ]
  },
  {
   "cell_type": "code",
   "execution_count": 4,
   "metadata": {},
   "outputs": [],
   "source": [
    "# Converting dates to datetime format and extracting details\n",
    "\n",
    "df['DateTime'] = df['Date'] + \" \" + df['Time']\n",
    "df['DateTime'] = pd.to_datetime(df['DateTime']) \n",
    "\n",
    "df['year'] = pd.DatetimeIndex(df['DateTime']).year\n",
    "df['month'] = pd.DatetimeIndex(df['DateTime']).month\n",
    "df['date'] = pd.DatetimeIndex(df['DateTime']).date\n",
    "df['time'] = pd.DatetimeIndex(df['DateTime']).time"
   ]
  },
  {
   "cell_type": "code",
   "execution_count": 5,
   "metadata": {},
   "outputs": [],
   "source": [
    "# Re-arranging wanted attributes from the dataset\n",
    "\n",
    "df = df[['DayOfWeek', 'PdDistrict', 'Resolution', 'X', 'Y', 'location', 'DateTime', 'year', 'month', 'date', 'time']]"
   ]
  },
  {
   "cell_type": "code",
   "execution_count": 6,
   "metadata": {},
   "outputs": [
    {
     "name": "stdout",
     "output_type": "stream",
     "text": [
      "Index(['day', 'district', 'result', 'x', 'y', 'location', 'datetime', 'year',\n",
      "       'month', 'date', 'time'],\n",
      "      dtype='object')\n"
     ]
    }
   ],
   "source": [
    "# Changing the column names for ease\n",
    "\n",
    "df.columns = ['day', 'district', 'result', 'x', 'y', 'location', 'datetime', 'year', 'month', 'date', 'time']\n",
    "print(df.columns)"
   ]
  },
  {
   "cell_type": "code",
   "execution_count": 7,
   "metadata": {},
   "outputs": [
    {
     "name": "stdout",
     "output_type": "stream",
     "text": [
      "The dataframe has 2160953 rows and 11 columns.\n"
     ]
    },
    {
     "data": {
      "text/html": [
       "<div>\n",
       "<style scoped>\n",
       "    .dataframe tbody tr th:only-of-type {\n",
       "        vertical-align: middle;\n",
       "    }\n",
       "\n",
       "    .dataframe tbody tr th {\n",
       "        vertical-align: top;\n",
       "    }\n",
       "\n",
       "    .dataframe thead th {\n",
       "        text-align: right;\n",
       "    }\n",
       "</style>\n",
       "<table border=\"1\" class=\"dataframe\">\n",
       "  <thead>\n",
       "    <tr style=\"text-align: right;\">\n",
       "      <th></th>\n",
       "      <th>day</th>\n",
       "      <th>district</th>\n",
       "      <th>result</th>\n",
       "      <th>x</th>\n",
       "      <th>y</th>\n",
       "      <th>location</th>\n",
       "      <th>datetime</th>\n",
       "      <th>year</th>\n",
       "      <th>month</th>\n",
       "      <th>date</th>\n",
       "      <th>time</th>\n",
       "    </tr>\n",
       "  </thead>\n",
       "  <tbody>\n",
       "    <tr>\n",
       "      <th>0</th>\n",
       "      <td>Friday</td>\n",
       "      <td>NORTHERN</td>\n",
       "      <td>ARREST, BOOKED</td>\n",
       "      <td>-122.439758</td>\n",
       "      <td>37.802151</td>\n",
       "      <td>POINT (-122.43975785707501 37.8021507619169)</td>\n",
       "      <td>2011-07-01 08:00:00</td>\n",
       "      <td>2011</td>\n",
       "      <td>7</td>\n",
       "      <td>2011-07-01</td>\n",
       "      <td>08:00:00</td>\n",
       "    </tr>\n",
       "    <tr>\n",
       "      <th>1</th>\n",
       "      <td>Tuesday</td>\n",
       "      <td>TENDERLOIN</td>\n",
       "      <td>ARREST, BOOKED</td>\n",
       "      <td>-122.414318</td>\n",
       "      <td>37.779944</td>\n",
       "      <td>POINT (-122.414317857881 37.7799444052046)</td>\n",
       "      <td>2005-10-18 14:30:00</td>\n",
       "      <td>2005</td>\n",
       "      <td>10</td>\n",
       "      <td>2005-10-18</td>\n",
       "      <td>14:30:00</td>\n",
       "    </tr>\n",
       "  </tbody>\n",
       "</table>\n",
       "</div>"
      ],
      "text/plain": [
       "       day    district          result           x          y  \\\n",
       "0   Friday    NORTHERN  ARREST, BOOKED -122.439758  37.802151   \n",
       "1  Tuesday  TENDERLOIN  ARREST, BOOKED -122.414318  37.779944   \n",
       "\n",
       "                                       location            datetime  year  \\\n",
       "0  POINT (-122.43975785707501 37.8021507619169) 2011-07-01 08:00:00  2011   \n",
       "1    POINT (-122.414317857881 37.7799444052046) 2005-10-18 14:30:00  2005   \n",
       "\n",
       "   month        date      time  \n",
       "0      7  2011-07-01  08:00:00  \n",
       "1     10  2005-10-18  14:30:00  "
      ]
     },
     "execution_count": 7,
     "metadata": {},
     "output_type": "execute_result"
    }
   ],
   "source": [
    "# Inspecting the data\n",
    "\n",
    "print(\"The dataframe has {} rows and {} columns.\".format(df.shape[0], df.shape[1]))\n",
    "df.head(2)"
   ]
  },
  {
   "cell_type": "code",
   "execution_count": 8,
   "metadata": {},
   "outputs": [
    {
     "data": {
      "text/plain": [
       "SOUTHERN      394234\n",
       "MISSION       293072\n",
       "NORTHERN      269229\n",
       "CENTRAL       223962\n",
       "BAYVIEW       210729\n",
       "TENDERLOIN    189034\n",
       "INGLESIDE     186645\n",
       "TARAVAL       158710\n",
       "PARK          121070\n",
       "RICHMOND      114267\n",
       "Name: district, dtype: int64"
      ]
     },
     "execution_count": 8,
     "metadata": {},
     "output_type": "execute_result"
    }
   ],
   "source": [
    "# Inspecting neighbourhood counts\n",
    "\n",
    "df.district.value_counts()"
   ]
  },
  {
   "cell_type": "code",
   "execution_count": 9,
   "metadata": {},
   "outputs": [
    {
     "data": {
      "text/plain": [
       "2015    153771\n",
       "2017    151759\n",
       "2013    149639\n",
       "2016    148379\n",
       "2014    147056\n",
       "2003    145073\n",
       "2004    144323\n",
       "2005    138807\n",
       "2012    137334\n",
       "2008    137113\n",
       "2009    136218\n",
       "2006    133726\n",
       "2007    133601\n",
       "2010    129750\n",
       "2011    128563\n",
       "2018     45841\n",
       "Name: year, dtype: int64"
      ]
     },
     "execution_count": 9,
     "metadata": {},
     "output_type": "execute_result"
    }
   ],
   "source": [
    "# Inspecting year counts\n",
    "\n",
    "df.year.value_counts()"
   ]
  },
  {
   "cell_type": "code",
   "execution_count": 10,
   "metadata": {},
   "outputs": [
    {
     "data": {
      "text/plain": [
       "day         0\n",
       "district    1\n",
       "result      0\n",
       "x           0\n",
       "y           0\n",
       "location    0\n",
       "datetime    0\n",
       "year        0\n",
       "month       0\n",
       "date        0\n",
       "time        0\n",
       "dtype: int64"
      ]
     },
     "execution_count": 10,
     "metadata": {},
     "output_type": "execute_result"
    }
   ],
   "source": [
    "# Checking for null values\n",
    "\n",
    "df.isnull().sum()"
   ]
  },
  {
   "cell_type": "code",
   "execution_count": 11,
   "metadata": {},
   "outputs": [],
   "source": [
    "df = df[df['district'].notna()]"
   ]
  },
  {
   "cell_type": "code",
   "execution_count": 12,
   "metadata": {},
   "outputs": [],
   "source": [
    "# Saving the clean dataset\n",
    "\n",
    "df.to_csv('../datasets/sanFran_clean.csv')"
   ]
  }
 ],
 "metadata": {
  "kernelspec": {
   "display_name": "Python 3",
   "language": "python",
   "name": "python3"
  },
  "language_info": {
   "codemirror_mode": {
    "name": "ipython",
    "version": 3
   },
   "file_extension": ".py",
   "mimetype": "text/x-python",
   "name": "python",
   "nbconvert_exporter": "python",
   "pygments_lexer": "ipython3",
   "version": "3.8.8"
  }
 },
 "nbformat": 4,
 "nbformat_minor": 2
}
