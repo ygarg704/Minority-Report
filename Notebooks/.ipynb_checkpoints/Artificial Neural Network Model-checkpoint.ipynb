{
 "cells": [
  {
   "cell_type": "code",
   "execution_count": 1,
   "metadata": {},
   "outputs": [],
   "source": [
    "# Importing required libraries\n",
    "import pandas as pd\n",
    "import numpy as np\n",
    "import warnings\n",
    "warnings.filterwarnings('ignore')"
   ]
  },
  {
   "cell_type": "code",
   "execution_count": 2,
   "metadata": {},
   "outputs": [
    {
     "name": "stdout",
     "output_type": "stream",
     "text": [
      "The dataset has 20160 rows and 7 columns.\n"
     ]
    },
    {
     "data": {
      "text/html": [
       "<div>\n",
       "<style scoped>\n",
       "    .dataframe tbody tr th:only-of-type {\n",
       "        vertical-align: middle;\n",
       "    }\n",
       "\n",
       "    .dataframe tbody tr th {\n",
       "        vertical-align: top;\n",
       "    }\n",
       "\n",
       "    .dataframe thead th {\n",
       "        text-align: right;\n",
       "    }\n",
       "</style>\n",
       "<table border=\"1\" class=\"dataframe\">\n",
       "  <thead>\n",
       "    <tr style=\"text-align: right;\">\n",
       "      <th></th>\n",
       "      <th>district</th>\n",
       "      <th>day</th>\n",
       "      <th>month</th>\n",
       "      <th>hour</th>\n",
       "      <th>Class</th>\n",
       "    </tr>\n",
       "  </thead>\n",
       "  <tbody>\n",
       "    <tr>\n",
       "      <th>0</th>\n",
       "      <td>SOUTHERN</td>\n",
       "      <td>Wednesday</td>\n",
       "      <td>1</td>\n",
       "      <td>18</td>\n",
       "      <td>Extreme</td>\n",
       "    </tr>\n",
       "    <tr>\n",
       "      <th>1</th>\n",
       "      <td>SOUTHERN</td>\n",
       "      <td>Wednesday</td>\n",
       "      <td>3</td>\n",
       "      <td>18</td>\n",
       "      <td>Extreme</td>\n",
       "    </tr>\n",
       "    <tr>\n",
       "      <th>2</th>\n",
       "      <td>SOUTHERN</td>\n",
       "      <td>Friday</td>\n",
       "      <td>8</td>\n",
       "      <td>18</td>\n",
       "      <td>Extreme</td>\n",
       "    </tr>\n",
       "    <tr>\n",
       "      <th>3</th>\n",
       "      <td>SOUTHERN</td>\n",
       "      <td>Saturday</td>\n",
       "      <td>8</td>\n",
       "      <td>23</td>\n",
       "      <td>Extreme</td>\n",
       "    </tr>\n",
       "    <tr>\n",
       "      <th>4</th>\n",
       "      <td>SOUTHERN</td>\n",
       "      <td>Friday</td>\n",
       "      <td>4</td>\n",
       "      <td>22</td>\n",
       "      <td>Extreme</td>\n",
       "    </tr>\n",
       "  </tbody>\n",
       "</table>\n",
       "</div>"
      ],
      "text/plain": [
       "   district        day  month  hour    Class\n",
       "0  SOUTHERN  Wednesday      1    18  Extreme\n",
       "1  SOUTHERN  Wednesday      3    18  Extreme\n",
       "2  SOUTHERN     Friday      8    18  Extreme\n",
       "3  SOUTHERN   Saturday      8    23  Extreme\n",
       "4  SOUTHERN     Friday      4    22  Extreme"
      ]
     },
     "execution_count": 2,
     "metadata": {},
     "output_type": "execute_result"
    }
   ],
   "source": [
    "# Load the data\n",
    "df = pd.read_csv('../datasets/classificationData.csv')\n",
    "print(\"The dataset has {} rows and {} columns.\".format(df.shape[0], df.shape[1]))\n",
    "df = df.drop(df.columns[0], axis=1) # Drop first column\n",
    "\n",
    "del df['Crime Occurences']\n",
    "df.head()"
   ]
  },
  {
   "cell_type": "code",
   "execution_count": 3,
   "metadata": {},
   "outputs": [
    {
     "name": "stdout",
     "output_type": "stream",
     "text": [
      "[0. 0. 0. ... 2. 2. 2.]\n"
     ]
    }
   ],
   "source": [
    "from sklearn.preprocessing import LabelEncoder\n",
    "y = df.iloc[:, -1].values\n",
    "le = LabelEncoder()\n",
    "y = le.fit_transform(y)\n",
    "y = y.astype('float')\n",
    "print(y)"
   ]
  },
  {
   "cell_type": "code",
   "execution_count": 4,
   "metadata": {},
   "outputs": [],
   "source": [
    "%%capture\n",
    "df = pd.get_dummies(df, columns=['district', 'day'], drop_first=True)\n",
    "print(df.head())\n",
    "\n",
    "X = df.loc[:, df.columns != 'Class'].values;\n",
    "X = X.astype('float')"
   ]
  },
  {
   "cell_type": "code",
   "execution_count": 5,
   "metadata": {},
   "outputs": [
    {
     "name": "stdout",
     "output_type": "stream",
     "text": [
      "[[ 1. 18.  0. ...  0.  0.  1.]\n",
      " [ 3. 18.  0. ...  0.  0.  1.]\n",
      " [ 8. 18.  0. ...  0.  0.  0.]\n",
      " ...\n",
      " [12.  4.  0. ...  0.  1.  0.]\n",
      " [ 9.  4.  0. ...  1.  0.  0.]\n",
      " [12.  5.  0. ...  0.  0.  1.]]\n"
     ]
    }
   ],
   "source": [
    "print(X)"
   ]
  },
  {
   "cell_type": "code",
   "execution_count": 6,
   "metadata": {},
   "outputs": [],
   "source": [
    "# Train-test split\n",
    "from sklearn.model_selection import train_test_split\n",
    "X_train, X_test, y_train, y_test = train_test_split(X, y, test_size = 0.1, random_state = 1)"
   ]
  },
  {
   "cell_type": "code",
   "execution_count": 20,
   "metadata": {},
   "outputs": [],
   "source": [
    "#Dependencies\n",
    "import keras\n",
    "from keras.models import Sequential\n",
    "from keras.layers import Dense, Dropout\n",
    "\n",
    "# Neural network\n",
    "model = Sequential()\n",
    "model.add(Dense(512, activation='relu'))\n",
    "model.add(Dropout(0.2))\n",
    "model.add(Dense(256, activation='relu'))\n",
    "model.add(Dropout(0.4))\n",
    "model.add(Dense(128, activation='relu'))\n",
    "model.add(Dense(4, activation='softmax'))"
   ]
  },
  {
   "cell_type": "code",
   "execution_count": 21,
   "metadata": {},
   "outputs": [],
   "source": [
    "model.compile(loss='sparse_categorical_crossentropy', optimizer='adam', metrics=['accuracy'])"
   ]
  },
  {
   "cell_type": "code",
   "execution_count": 22,
   "metadata": {
    "scrolled": true
   },
   "outputs": [
    {
     "name": "stdout",
     "output_type": "stream",
     "text": [
      "Epoch 1/50\n",
      "142/142 [==============================] - 1s 5ms/step - loss: 1.2535 - accuracy: 0.4155 - val_loss: 0.7470 - val_accuracy: 0.6855\n",
      "\n",
      "Epoch 00001: val_loss improved from inf to 0.74702, saving model to MLP.weights.best.hdf5\n",
      "Epoch 2/50\n",
      "142/142 [==============================] - 1s 4ms/step - loss: 0.7773 - accuracy: 0.6718 - val_loss: 0.6517 - val_accuracy: 0.7252\n",
      "\n",
      "Epoch 00002: val_loss improved from 0.74702 to 0.65173, saving model to MLP.weights.best.hdf5\n",
      "Epoch 3/50\n",
      "142/142 [==============================] - 1s 4ms/step - loss: 0.6813 - accuracy: 0.7156 - val_loss: 0.5682 - val_accuracy: 0.7644\n",
      "\n",
      "Epoch 00003: val_loss improved from 0.65173 to 0.56816, saving model to MLP.weights.best.hdf5\n",
      "Epoch 4/50\n",
      "142/142 [==============================] - 1s 4ms/step - loss: 0.6329 - accuracy: 0.7285 - val_loss: 0.5554 - val_accuracy: 0.7579\n",
      "\n",
      "Epoch 00004: val_loss improved from 0.56816 to 0.55542, saving model to MLP.weights.best.hdf5\n",
      "Epoch 5/50\n",
      "142/142 [==============================] - 1s 4ms/step - loss: 0.5959 - accuracy: 0.7443 - val_loss: 0.5562 - val_accuracy: 0.7555\n",
      "\n",
      "Epoch 00005: val_loss did not improve from 0.55542\n",
      "Epoch 6/50\n",
      "142/142 [==============================] - 1s 6ms/step - loss: 0.5851 - accuracy: 0.7504 - val_loss: 0.5455 - val_accuracy: 0.7564\n",
      "\n",
      "Epoch 00006: val_loss improved from 0.55542 to 0.54553, saving model to MLP.weights.best.hdf5\n",
      "Epoch 7/50\n",
      "142/142 [==============================] - 1s 4ms/step - loss: 0.5867 - accuracy: 0.7464 - val_loss: 0.5332 - val_accuracy: 0.7594\n",
      "\n",
      "Epoch 00007: val_loss improved from 0.54553 to 0.53319, saving model to MLP.weights.best.hdf5\n",
      "Epoch 8/50\n",
      "142/142 [==============================] - 1s 4ms/step - loss: 0.5678 - accuracy: 0.7553 - val_loss: 0.5192 - val_accuracy: 0.7679\n",
      "\n",
      "Epoch 00008: val_loss improved from 0.53319 to 0.51918, saving model to MLP.weights.best.hdf5\n",
      "Epoch 9/50\n",
      "142/142 [==============================] - 1s 4ms/step - loss: 0.5634 - accuracy: 0.7611 - val_loss: 0.5148 - val_accuracy: 0.7808\n",
      "\n",
      "Epoch 00009: val_loss improved from 0.51918 to 0.51475, saving model to MLP.weights.best.hdf5\n",
      "Epoch 10/50\n",
      "142/142 [==============================] - 1s 4ms/step - loss: 0.5550 - accuracy: 0.7600 - val_loss: 0.5371 - val_accuracy: 0.7629\n",
      "\n",
      "Epoch 00010: val_loss did not improve from 0.51475\n",
      "Epoch 11/50\n",
      "142/142 [==============================] - 1s 5ms/step - loss: 0.5502 - accuracy: 0.7649 - val_loss: 0.5190 - val_accuracy: 0.7684\n",
      "\n",
      "Epoch 00011: val_loss did not improve from 0.51475\n",
      "Epoch 12/50\n",
      "142/142 [==============================] - 1s 4ms/step - loss: 0.5355 - accuracy: 0.7703 - val_loss: 0.5097 - val_accuracy: 0.7748\n",
      "\n",
      "Epoch 00012: val_loss improved from 0.51475 to 0.50966, saving model to MLP.weights.best.hdf5\n",
      "Epoch 13/50\n",
      "142/142 [==============================] - 1s 4ms/step - loss: 0.5311 - accuracy: 0.7692 - val_loss: 0.5170 - val_accuracy: 0.7743\n",
      "\n",
      "Epoch 00013: val_loss did not improve from 0.50966\n",
      "Epoch 14/50\n",
      "142/142 [==============================] - 1s 4ms/step - loss: 0.5282 - accuracy: 0.7661 - val_loss: 0.5094 - val_accuracy: 0.7743\n",
      "\n",
      "Epoch 00014: val_loss improved from 0.50966 to 0.50942, saving model to MLP.weights.best.hdf5\n",
      "Epoch 15/50\n",
      "142/142 [==============================] - 1s 4ms/step - loss: 0.5140 - accuracy: 0.7782 - val_loss: 0.5054 - val_accuracy: 0.7728\n",
      "\n",
      "Epoch 00015: val_loss improved from 0.50942 to 0.50538, saving model to MLP.weights.best.hdf5\n",
      "Epoch 16/50\n",
      "142/142 [==============================] - 1s 4ms/step - loss: 0.5266 - accuracy: 0.7722 - val_loss: 0.5019 - val_accuracy: 0.7723\n",
      "\n",
      "Epoch 00016: val_loss improved from 0.50538 to 0.50190, saving model to MLP.weights.best.hdf5\n",
      "Epoch 17/50\n",
      "142/142 [==============================] - 1s 4ms/step - loss: 0.5132 - accuracy: 0.7755 - val_loss: 0.4999 - val_accuracy: 0.7808\n",
      "\n",
      "Epoch 00017: val_loss improved from 0.50190 to 0.49990, saving model to MLP.weights.best.hdf5\n",
      "Epoch 18/50\n",
      "142/142 [==============================] - 1s 4ms/step - loss: 0.5152 - accuracy: 0.7774 - val_loss: 0.4908 - val_accuracy: 0.7867\n",
      "\n",
      "Epoch 00018: val_loss improved from 0.49990 to 0.49078, saving model to MLP.weights.best.hdf5\n",
      "Epoch 19/50\n",
      "142/142 [==============================] - 1s 4ms/step - loss: 0.5073 - accuracy: 0.7760 - val_loss: 0.5010 - val_accuracy: 0.7758\n",
      "\n",
      "Epoch 00019: val_loss did not improve from 0.49078\n",
      "Epoch 20/50\n",
      "142/142 [==============================] - 1s 4ms/step - loss: 0.5100 - accuracy: 0.7775 - val_loss: 0.4951 - val_accuracy: 0.7788\n",
      "\n",
      "Epoch 00020: val_loss did not improve from 0.49078\n",
      "Epoch 21/50\n",
      "142/142 [==============================] - 1s 4ms/step - loss: 0.4970 - accuracy: 0.7834 - val_loss: 0.5008 - val_accuracy: 0.7743\n",
      "\n",
      "Epoch 00021: val_loss did not improve from 0.49078\n",
      "Epoch 22/50\n",
      "142/142 [==============================] - 1s 4ms/step - loss: 0.4923 - accuracy: 0.7830 - val_loss: 0.4973 - val_accuracy: 0.7827\n",
      "\n",
      "Epoch 00022: val_loss did not improve from 0.49078\n",
      "Epoch 23/50\n",
      "142/142 [==============================] - 0s 3ms/step - loss: 0.4927 - accuracy: 0.7893 - val_loss: 0.5179 - val_accuracy: 0.7758\n",
      "\n",
      "Epoch 00023: val_loss did not improve from 0.49078\n",
      "Epoch 24/50\n",
      "142/142 [==============================] - 1s 4ms/step - loss: 0.5037 - accuracy: 0.7774 - val_loss: 0.4865 - val_accuracy: 0.7852\n",
      "\n",
      "Epoch 00024: val_loss improved from 0.49078 to 0.48651, saving model to MLP.weights.best.hdf5\n",
      "Epoch 25/50\n",
      "142/142 [==============================] - 1s 4ms/step - loss: 0.4985 - accuracy: 0.7779 - val_loss: 0.4966 - val_accuracy: 0.7842\n",
      "\n",
      "Epoch 00025: val_loss did not improve from 0.48651\n",
      "Epoch 26/50\n",
      "142/142 [==============================] - 0s 3ms/step - loss: 0.4978 - accuracy: 0.7860 - val_loss: 0.4755 - val_accuracy: 0.7907\n",
      "\n",
      "Epoch 00026: val_loss improved from 0.48651 to 0.47554, saving model to MLP.weights.best.hdf5\n",
      "Epoch 27/50\n",
      "142/142 [==============================] - 1s 4ms/step - loss: 0.4908 - accuracy: 0.7881 - val_loss: 0.4867 - val_accuracy: 0.7778\n",
      "\n",
      "Epoch 00027: val_loss did not improve from 0.47554\n",
      "Epoch 28/50\n",
      "142/142 [==============================] - 0s 3ms/step - loss: 0.4928 - accuracy: 0.7837 - val_loss: 0.4831 - val_accuracy: 0.7817\n",
      "\n",
      "Epoch 00028: val_loss did not improve from 0.47554\n",
      "Epoch 29/50\n",
      "142/142 [==============================] - 1s 4ms/step - loss: 0.4820 - accuracy: 0.7919 - val_loss: 0.4845 - val_accuracy: 0.7872\n",
      "\n",
      "Epoch 00029: val_loss did not improve from 0.47554\n",
      "Epoch 30/50\n",
      "142/142 [==============================] - 1s 4ms/step - loss: 0.4795 - accuracy: 0.7908 - val_loss: 0.4904 - val_accuracy: 0.7847\n",
      "\n",
      "Epoch 00030: val_loss did not improve from 0.47554\n",
      "Epoch 31/50\n",
      "142/142 [==============================] - 1s 4ms/step - loss: 0.4852 - accuracy: 0.7905 - val_loss: 0.4914 - val_accuracy: 0.7812\n",
      "\n",
      "Epoch 00031: val_loss did not improve from 0.47554\n",
      "Epoch 32/50\n",
      "142/142 [==============================] - 1s 4ms/step - loss: 0.4850 - accuracy: 0.7877 - val_loss: 0.4869 - val_accuracy: 0.7827\n",
      "\n",
      "Epoch 00032: val_loss did not improve from 0.47554\n",
      "Epoch 33/50\n",
      "142/142 [==============================] - 1s 4ms/step - loss: 0.4851 - accuracy: 0.7865 - val_loss: 0.4841 - val_accuracy: 0.7902\n",
      "\n",
      "Epoch 00033: val_loss did not improve from 0.47554\n",
      "Epoch 34/50\n",
      "142/142 [==============================] - 1s 4ms/step - loss: 0.4866 - accuracy: 0.7847 - val_loss: 0.5023 - val_accuracy: 0.7783\n",
      "\n",
      "Epoch 00034: val_loss did not improve from 0.47554\n",
      "Epoch 35/50\n",
      "142/142 [==============================] - 1s 4ms/step - loss: 0.4773 - accuracy: 0.7901 - val_loss: 0.4780 - val_accuracy: 0.7897\n",
      "\n",
      "Epoch 00035: val_loss did not improve from 0.47554\n",
      "Epoch 36/50\n",
      "142/142 [==============================] - 1s 4ms/step - loss: 0.4823 - accuracy: 0.7866 - val_loss: 0.4745 - val_accuracy: 0.7951\n",
      "\n",
      "Epoch 00036: val_loss improved from 0.47554 to 0.47451, saving model to MLP.weights.best.hdf5\n",
      "Epoch 37/50\n",
      "142/142 [==============================] - 1s 4ms/step - loss: 0.4724 - accuracy: 0.7935 - val_loss: 0.4732 - val_accuracy: 0.7976\n",
      "\n",
      "Epoch 00037: val_loss improved from 0.47451 to 0.47324, saving model to MLP.weights.best.hdf5\n",
      "Epoch 38/50\n",
      "142/142 [==============================] - 1s 4ms/step - loss: 0.4716 - accuracy: 0.7928 - val_loss: 0.4786 - val_accuracy: 0.7922\n",
      "\n",
      "Epoch 00038: val_loss did not improve from 0.47324\n",
      "Epoch 39/50\n",
      "142/142 [==============================] - 1s 4ms/step - loss: 0.4789 - accuracy: 0.7924 - val_loss: 0.4898 - val_accuracy: 0.7803\n",
      "\n",
      "Epoch 00039: val_loss did not improve from 0.47324\n",
      "Epoch 40/50\n",
      "142/142 [==============================] - 1s 4ms/step - loss: 0.4683 - accuracy: 0.7960 - val_loss: 0.5127 - val_accuracy: 0.7798\n",
      "\n",
      "Epoch 00040: val_loss did not improve from 0.47324\n",
      "Epoch 41/50\n",
      "142/142 [==============================] - 0s 3ms/step - loss: 0.4681 - accuracy: 0.8006 - val_loss: 0.4748 - val_accuracy: 0.7981\n",
      "\n",
      "Epoch 00041: val_loss did not improve from 0.47324\n",
      "Epoch 42/50\n",
      "142/142 [==============================] - 0s 3ms/step - loss: 0.4672 - accuracy: 0.7991 - val_loss: 0.4764 - val_accuracy: 0.7951\n",
      "\n",
      "Epoch 00042: val_loss did not improve from 0.47324\n",
      "Epoch 43/50\n",
      "142/142 [==============================] - 0s 3ms/step - loss: 0.4666 - accuracy: 0.7977 - val_loss: 0.4868 - val_accuracy: 0.7917\n",
      "\n",
      "Epoch 00043: val_loss did not improve from 0.47324\n",
      "Epoch 44/50\n",
      "142/142 [==============================] - 0s 3ms/step - loss: 0.4680 - accuracy: 0.7967 - val_loss: 0.4742 - val_accuracy: 0.7951\n",
      "\n",
      "Epoch 00044: val_loss did not improve from 0.47324\n",
      "Epoch 45/50\n",
      "142/142 [==============================] - 0s 3ms/step - loss: 0.4613 - accuracy: 0.7978 - val_loss: 0.4762 - val_accuracy: 0.8006\n",
      "\n",
      "Epoch 00045: val_loss did not improve from 0.47324\n",
      "Epoch 46/50\n",
      "142/142 [==============================] - 0s 3ms/step - loss: 0.4616 - accuracy: 0.7957 - val_loss: 0.4852 - val_accuracy: 0.7847\n",
      "\n",
      "Epoch 00046: val_loss did not improve from 0.47324\n",
      "Epoch 47/50\n",
      "142/142 [==============================] - 0s 3ms/step - loss: 0.4546 - accuracy: 0.8012 - val_loss: 0.4782 - val_accuracy: 0.7902\n",
      "\n",
      "Epoch 00047: val_loss did not improve from 0.47324\n",
      "Epoch 48/50\n",
      "142/142 [==============================] - 0s 3ms/step - loss: 0.4653 - accuracy: 0.7924 - val_loss: 0.4847 - val_accuracy: 0.7912\n",
      "\n",
      "Epoch 00048: val_loss did not improve from 0.47324\n",
      "Epoch 49/50\n",
      "142/142 [==============================] - 0s 3ms/step - loss: 0.4700 - accuracy: 0.7940 - val_loss: 0.4909 - val_accuracy: 0.7956\n",
      "\n",
      "Epoch 00049: val_loss did not improve from 0.47324\n",
      "Epoch 50/50\n",
      "142/142 [==============================] - 0s 3ms/step - loss: 0.4542 - accuracy: 0.8029 - val_loss: 0.4838 - val_accuracy: 0.7842\n",
      "\n",
      "Epoch 00050: val_loss did not improve from 0.47324\n"
     ]
    }
   ],
   "source": [
    "from keras.callbacks import ModelCheckpoint   \n",
    "\n",
    "# train the model\n",
    "checkpointer = ModelCheckpoint(filepath='MLP.weights.best.hdf5', verbose=1, \n",
    "                               save_best_only=True)\n",
    "hist = model.fit(X_train, y_train, batch_size=128, epochs=50,\n",
    "          validation_data=(X_test, y_test), callbacks=[checkpointer], \n",
    "          verbose=1, shuffle=True)"
   ]
  },
  {
   "cell_type": "code",
   "execution_count": 23,
   "metadata": {},
   "outputs": [],
   "source": [
    "# load the weights that yielded the best validation accuracy\n",
    "model.load_weights('MLP.weights.best.hdf5')"
   ]
  },
  {
   "cell_type": "code",
   "execution_count": 24,
   "metadata": {},
   "outputs": [
    {
     "name": "stdout",
     "output_type": "stream",
     "text": [
      "\n",
      " Test accuracy: 79.76190447807312\n"
     ]
    }
   ],
   "source": [
    "# evaluate and print test accuracy\n",
    "score = model.evaluate(X_test, y_test, verbose=0)\n",
    "print('\\n', 'Test accuracy:', score[1]*100)"
   ]
  },
  {
   "cell_type": "code",
   "execution_count": 37,
   "metadata": {},
   "outputs": [
    {
     "name": "stdout",
     "output_type": "stream",
     "text": [
      "ann :               precision    recall  f1-score   support\n",
      "\n",
      "         0.0       0.90      0.81      0.85       517\n",
      "         1.0       0.68      0.72      0.70       478\n",
      "         2.0       0.91      0.87      0.89       512\n",
      "         3.0       0.73      0.78      0.75       509\n",
      "\n",
      "    accuracy                           0.80      2016\n",
      "   macro avg       0.80      0.80      0.80      2016\n",
      "weighted avg       0.80      0.80      0.80      2016\n",
      "\n"
     ]
    }
   ],
   "source": [
    "from sklearn.metrics import classification_report\n",
    "\n",
    "y_pred = model.predict(X_test)\n",
    "yhat_classes = model.predict_classes(X_test, verbose=0)\n",
    "\n",
    "print('{:s} : {:s}'.format(\"ann\", classification_report(y_test, yhat_classes)))"
   ]
  },
  {
   "cell_type": "code",
   "execution_count": 13,
   "metadata": {},
   "outputs": [
    {
     "data": {
      "image/png": "[encoded data removed]",
      "text/plain": [
       "<Figure size 432x288 with 1 Axes>"
      ]
     },
     "metadata": {
      "needs_background": "light"
     },
     "output_type": "display_data"
    },
    {
     "data": {
      "text/plain": [
       "<Figure size 432x288 with 0 Axes>"
      ]
     },
     "metadata": {},
     "output_type": "display_data"
    }
   ],
   "source": [
    "import matplotlib.pyplot as plt\n",
    "plt.plot(hist.history['accuracy'])\n",
    "plt.plot(hist.history['val_accuracy'])\n",
    "plt.title('Model accuracy')\n",
    "plt.ylabel('Accuracy')\n",
    "plt.xlabel('Epoch')\n",
    "plt.legend(['Train', 'Test'], loc='upper left')\n",
    "plt.show()"
   ]
  },
  {
   "cell_type": "code",
   "execution_count": 14,
   "metadata": {},
   "outputs": [
    {
     "data": {
      "image/png": "[encoded data removed]",
      "text/plain": [
       "<Figure size 432x288 with 1 Axes>"
      ]
     },
     "metadata": {
      "needs_background": "light"
     },
     "output_type": "display_data"
    },
    {
     "data": {
      "text/plain": [
       "<Figure size 432x288 with 0 Axes>"
      ]
     },
     "metadata": {},
     "output_type": "display_data"
    }
   ],
   "source": [
    "plt.plot(hist.history['loss']) \n",
    "plt.plot(hist.history['val_loss']) \n",
    "plt.title('Model loss') \n",
    "plt.ylabel('Loss') \n",
    "plt.xlabel('Epoch') \n",
    "plt.legend(['Train', 'Test'], loc='upper left') \n",
    "plt.show()"
   ]
  },
  {
   "cell_type": "code",
   "execution_count": 26,
   "metadata": {},
   "outputs": [
    {
     "name": "stdout",
     "output_type": "stream",
     "text": [
      "Saved model to disk\n"
     ]
    }
   ],
   "source": [
    "model_json = model.to_json()\n",
    "with open(\"model.json\", \"w\") as json_file:\n",
    "    json_file.write(model_json)\n",
    "# serialize weights to HDF5\n",
    "model.save_weights(\"model.h5\")\n",
    "print(\"Saved model to disk\")"
   ]
  }
 ],
 "metadata": {
  "kernelspec": {
   "display_name": "Python 3",
   "language": "python",
   "name": "python3"
  },
  "language_info": {
   "codemirror_mode": {
    "name": "ipython",
    "version": 3
   },
   "file_extension": ".py",
   "mimetype": "text/x-python",
   "name": "python",
   "nbconvert_exporter": "python",
   "pygments_lexer": "ipython3",
   "version": "3.8.8"
  }
 },
 "nbformat": 4,
 "nbformat_minor": 4
}
